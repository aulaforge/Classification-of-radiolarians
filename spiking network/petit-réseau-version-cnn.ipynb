{
 "cells": [
  {
   "cell_type": "code",
   "execution_count": 1,
   "id": "9fd1dd8b",
   "metadata": {
    "_cell_guid": "b1076dfc-b9ad-4769-8c92-a6c4dae69d19",
    "_uuid": "8f2839f25d086af736a60e9eeb907d3b93b6e0e5",
    "execution": {
     "iopub.execute_input": "2021-08-18T16:22:01.844731Z",
     "iopub.status.busy": "2021-08-18T16:22:01.844227Z",
     "iopub.status.idle": "2021-08-18T16:22:01.993976Z",
     "shell.execute_reply": "2021-08-18T16:22:01.993293Z",
     "shell.execute_reply.started": "2021-08-18T15:27:21.848319Z"
    },
    "papermill": {
     "duration": 0.168925,
     "end_time": "2021-08-18T16:22:01.994152",
     "exception": false,
     "start_time": "2021-08-18T16:22:01.825227",
     "status": "completed"
    },
    "tags": []
   },
   "outputs": [
    {
     "name": "stdout",
     "output_type": "stream",
     "text": [
      "1087\n"
     ]
    }
   ],
   "source": [
    "import pandas as pd # data processing, CSV file I/O (e.g. pd.read_csv)\n",
    "\n",
    "\n",
    "nbPicture = 0\n",
    "\n",
    "dataDirectory = '/kaggle/input/radiolarian-images/Radiolarian images' #replace by the directory of your images\n",
    "\n",
    "import os\n",
    "for dirname, _, filenames in os.walk(dataDirectory):\n",
    "    for filename in filenames:\n",
    "        nbPicture += 1\n",
    "print (nbPicture)"
   ]
  },
  {
   "cell_type": "markdown",
   "id": "ed4f0c39",
   "metadata": {
    "papermill": {
     "duration": 0.007867,
     "end_time": "2021-08-18T16:22:02.011106",
     "exception": false,
     "start_time": "2021-08-18T16:22:02.003239",
     "status": "completed"
    },
    "tags": []
   },
   "source": [
    "We have checked the number of picture avaible, now let's go into the structure.\n",
    "\n",
    "We then just compile the model with the right metrics and accuracy regarding the representation of the classes we have chosen (a vectorial one)."
   ]
  },
  {
   "cell_type": "code",
   "execution_count": 2,
   "id": "695ddcab",
   "metadata": {
    "execution": {
     "iopub.execute_input": "2021-08-18T16:22:02.036991Z",
     "iopub.status.busy": "2021-08-18T16:22:02.036364Z",
     "iopub.status.idle": "2021-08-18T16:22:09.616760Z",
     "shell.execute_reply": "2021-08-18T16:22:09.616286Z",
     "shell.execute_reply.started": "2021-08-18T15:27:21.963881Z"
    },
    "papermill": {
     "duration": 7.598088,
     "end_time": "2021-08-18T16:22:09.616888",
     "exception": false,
     "start_time": "2021-08-18T16:22:02.018800",
     "status": "completed"
    },
    "tags": []
   },
   "outputs": [],
   "source": [
    "import gc\n",
    "import tensorflow as tf\n",
    "import tensorflow_datasets as tfds\n",
    "import numpy as np\n",
    "import seaborn as sn\n",
    "import matplotlib.pyplot as plt\n",
    "import matplotlib.font_manager as fm\n",
    "\n",
    "\n",
    "from matplotlib.collections import QuadMesh\n",
    "from pandas import DataFrame\n",
    "from tensorflow.keras.applications import MobileNet\n",
    "from tensorflow.keras.applications.mobilenet import preprocess_input\n",
    "from tensorflow.keras.layers import Dense, Input, Dropout\n",
    "from tensorflow.keras.models import Model\n",
    "\n",
    "\n",
    "target_size = 160\n",
    "\n",
    "def build_model( ):\n",
    "    input_tensor = Input(shape=(160, 160, 3))\n",
    "    \n",
    "    x = tf.keras.layers.Conv2D(filters=32, kernel_size=7, input_shape=(160, 160, 3), activation = 'relu')(\n",
    "        input_tensor)\n",
    "    \n",
    "    x = tf.keras.layers.Conv2D(filters=64, strides = 2, kernel_size=7, input_shape=(154, 154, 32), activation = 'relu')(\n",
    "        x)\n",
    "    \n",
    "    x = tf.keras.layers.MaxPooling2D(strides = 1, pool_size=(2,2), padding = 'same', input_shape=(74, 74, 64))(\n",
    "        x)\n",
    "    \n",
    "    x = tf.keras.layers.Conv2D(filters=128, strides = 2, kernel_size=7, input_shape=(74, 74, 64), activation = 'relu')(\n",
    "        x)\n",
    "\n",
    "    x = tf.keras.layers.Conv2D(filters = 256, strides = 2, kernel_size=5, input_shape=(34, 34, 128), activation = 'relu')(\n",
    "        x)\n",
    "    \n",
    "    \n",
    "    x = tf.keras.layers.Flatten()(x)\n",
    "\n",
    "\n",
    "        \n",
    "    output_tensor = Dense(8, activation='softmax')(x)\n",
    "    \n",
    "    model = Model(inputs=input_tensor, outputs=output_tensor)\n",
    "    \n",
    "    \n",
    "    return model\n",
    "    \n",
    "    \n",
    "from tensorflow.keras.optimizers import Adam\n",
    "\n",
    "\n",
    "model = build_model()\n",
    "model.compile(optimizer=Adam(),\n",
    "              loss='categorical_crossentropy',\n",
    "              metrics=['categorical_accuracy'])\n"
   ]
  },
  {
   "cell_type": "markdown",
   "id": "f457baa1",
   "metadata": {
    "papermill": {
     "duration": 0.007479,
     "end_time": "2021-08-18T16:22:09.632166",
     "exception": false,
     "start_time": "2021-08-18T16:22:09.624687",
     "status": "completed"
    },
    "tags": []
   },
   "source": [
    "Here, we load the data from the Kaggle dataset that I've uploaded. Then, we split the data into a train set and a test set (85/15)."
   ]
  },
  {
   "cell_type": "code",
   "execution_count": 3,
   "id": "2d3328b5",
   "metadata": {
    "execution": {
     "iopub.execute_input": "2021-08-18T16:22:09.653528Z",
     "iopub.status.busy": "2021-08-18T16:22:09.652949Z",
     "iopub.status.idle": "2021-08-18T16:22:14.577745Z",
     "shell.execute_reply": "2021-08-18T16:22:14.577139Z",
     "shell.execute_reply.started": "2021-08-18T15:27:22.032686Z"
    },
    "papermill": {
     "duration": 4.93843,
     "end_time": "2021-08-18T16:22:14.578066",
     "exception": false,
     "start_time": "2021-08-18T16:22:09.639636",
     "status": "completed"
    },
    "tags": []
   },
   "outputs": [
    {
     "name": "stdout",
     "output_type": "stream",
     "text": [
      "Found 1087 images belonging to 8 classes.\n",
      "X shape =  (1087, 160, 160, 3)\n",
      "y shape =  (1087, 8)\n",
      "x_train shape =  (923, 160, 160, 3)\n",
      "x_test shape =  (164, 160, 160, 3)\n",
      "y_train shape =  (923, 8)\n",
      "y_test shape =  (164, 8)\n"
     ]
    }
   ],
   "source": [
    "from tensorflow.keras.preprocessing.image import ImageDataGenerator\n",
    "from sklearn.model_selection import train_test_split\n",
    "\n",
    "batchSize = 64\n",
    "\n",
    "# Load the train data and test data\n",
    "\n",
    "train_data_dir = dataDirectory\n",
    "\n",
    "\n",
    "train_datagen = ImageDataGenerator()\n",
    "itr = train_datagen.flow_from_directory(\n",
    "train_data_dir,\n",
    "target_size=(target_size, target_size),\n",
    "batch_size=nbPicture,\n",
    "class_mode='categorical')\n",
    "\n",
    "label_map = (itr.class_indices)\n",
    "\n",
    "X, y = itr.next()\n",
    "\n",
    "print(\"X shape = \", X.shape)\n",
    "print(\"y shape = \", y.shape)\n",
    "\n",
    "x_train, x_test, y_train, y_test = train_test_split(X, y, test_size=0.15)\n",
    "    \n",
    "print(\"x_train shape = \", x_train.shape)\n",
    "print(\"x_test shape = \", x_test.shape)\n",
    "print(\"y_train shape = \", y_train.shape)\n",
    "print(\"y_test shape = \", y_test.shape)\n",
    "    "
   ]
  },
  {
   "cell_type": "markdown",
   "id": "36e71d38",
   "metadata": {
    "papermill": {
     "duration": 0.0093,
     "end_time": "2021-08-18T16:22:14.597373",
     "exception": false,
     "start_time": "2021-08-18T16:22:14.588073",
     "status": "completed"
    },
    "tags": []
   },
   "source": [
    "The preprocess_images is the function taking as input a dataset and return the same dataset, but fitting the prerequisites of the model we have created. We take care of the format of our data, checking wether it has 3 or 4 dimensions, and if the images are in grayscale or in a rgb format."
   ]
  },
  {
   "cell_type": "code",
   "execution_count": 4,
   "id": "9cea58c6",
   "metadata": {
    "execution": {
     "iopub.execute_input": "2021-08-18T16:22:14.622400Z",
     "iopub.status.busy": "2021-08-18T16:22:14.621329Z",
     "iopub.status.idle": "2021-08-18T16:22:14.625111Z",
     "shell.execute_reply": "2021-08-18T16:22:14.624658Z",
     "shell.execute_reply.started": "2021-08-18T15:27:24.081786Z"
    },
    "papermill": {
     "duration": 0.018289,
     "end_time": "2021-08-18T16:22:14.625218",
     "exception": false,
     "start_time": "2021-08-18T16:22:14.606929",
     "status": "completed"
    },
    "tags": []
   },
   "outputs": [],
   "source": [
    "from sklearn.utils import shuffle\n",
    "from tensorflow.image import resize, grayscale_to_rgb\n",
    "    \n",
    "    \n",
    "def preprocess_images(x):\n",
    "\n",
    "    batch = preprocess_input(x)\n",
    "    if (len(x.shape)==3):\n",
    "        batch = batch[..., np.newaxis]\n",
    "\n",
    "    if (x.shape[3]==1):  \n",
    "        batch = grayscale_to_rgb(tf.convert_to_tensor(batch))\n",
    "        \n",
    "    batch = resize(batch, (target_size, target_size))\n",
    "    batch = np.asarray(batch)\n",
    "\n",
    "           \n",
    "    return (tf.convert_to_tensor(batch.astype(np.float32)))    "
   ]
  },
  {
   "cell_type": "code",
   "execution_count": 5,
   "id": "24d6075a",
   "metadata": {
    "execution": {
     "iopub.execute_input": "2021-08-18T16:22:14.648612Z",
     "iopub.status.busy": "2021-08-18T16:22:14.647824Z",
     "iopub.status.idle": "2021-08-18T16:22:52.338655Z",
     "shell.execute_reply": "2021-08-18T16:22:52.338163Z",
     "shell.execute_reply.started": "2021-08-18T15:27:24.091981Z"
    },
    "papermill": {
     "duration": 37.705434,
     "end_time": "2021-08-18T16:22:52.338794",
     "exception": false,
     "start_time": "2021-08-18T16:22:14.633360",
     "status": "completed"
    },
    "tags": []
   },
   "outputs": [
    {
     "name": "stdout",
     "output_type": "stream",
     "text": [
      "Epoch 1/3\n",
      "100/100 [==============================] - 17s 93ms/step - loss: 1.7072 - categorical_accuracy: 0.4780\n",
      "Epoch 2/3\n",
      "100/100 [==============================] - 9s 89ms/step - loss: 0.0931 - categorical_accuracy: 0.9685\n",
      "Epoch 3/3\n",
      "100/100 [==============================] - 9s 89ms/step - loss: 0.0055 - categorical_accuracy: 0.9974\n"
     ]
    },
    {
     "data": {
      "text/plain": [
       "6265"
      ]
     },
     "execution_count": 5,
     "metadata": {},
     "output_type": "execute_result"
    }
   ],
   "source": [
    "norm_x_train = preprocess_images(x_train)\n",
    "\n",
    "del x_train\n",
    "gc.collect()\n",
    "    \n",
    "train_dataset = tf.data.Dataset.from_tensor_slices((norm_x_train, y_train)).shuffle(norm_x_train.shape[0], reshuffle_each_iteration=True).batch(batchSize).repeat(70)\n",
    "    \n",
    "    \n",
    "del norm_x_train\n",
    "del y_train\n",
    "gc.collect()\n",
    "\n",
    "\n",
    "    \n",
    "model.fit(\n",
    "        train_dataset,\n",
    "        batch_size = batchSize,\n",
    "        steps_per_epoch=100,\n",
    "        verbose=1,\n",
    "        epochs=3)\n",
    "    \n",
    "\n",
    "model.save(\"/kaggle/working/mobilenet_radiolarians\") #replace the address by the one where you want to save the trained model\n",
    "\n",
    "    \n",
    "del train_dataset\n",
    "gc.collect()"
   ]
  },
  {
   "cell_type": "code",
   "execution_count": 6,
   "id": "2d239be3",
   "metadata": {
    "execution": {
     "iopub.execute_input": "2021-08-18T16:22:52.548068Z",
     "iopub.status.busy": "2021-08-18T16:22:52.539100Z",
     "iopub.status.idle": "2021-08-18T16:22:52.550285Z",
     "shell.execute_reply": "2021-08-18T16:22:52.550724Z",
     "shell.execute_reply.started": "2021-08-18T15:27:53.075441Z"
    },
    "papermill": {
     "duration": 0.12383,
     "end_time": "2021-08-18T16:22:52.550880",
     "exception": false,
     "start_time": "2021-08-18T16:22:52.427050",
     "status": "completed"
    },
    "tags": []
   },
   "outputs": [],
   "source": [
    "# Reference for this part : https://github.com/wcipriano/pretty-print-confusion-matrix\n",
    "\n",
    "\n",
    "\n",
    "def get_new_fig(fn, figsize=[9,9]):\n",
    "    \"\"\" Init graphics \"\"\"\n",
    "    fig1 = plt.figure(fn, figsize)\n",
    "    ax1 = fig1.gca()   #Get Current Axis\n",
    "    ax1.cla() # clear existing plot\n",
    "    return fig1, ax1\n",
    "#\n",
    "\n",
    "def configcell_text_and_colors(array_df, lin, col, oText, facecolors, posi, fz, fmt, show_null_values=0):\n",
    "    \"\"\"\n",
    "      config cell text and colors\n",
    "      and return text elements to add and to dell\n",
    "      @TODO: use fmt\n",
    "    \"\"\"\n",
    "    text_add = []; text_del = [];\n",
    "    cell_val = array_df[lin][col]\n",
    "    tot_all = array_df[-1][-1]\n",
    "    per = (float(cell_val) / tot_all) * 100\n",
    "    curr_column = array_df[:,col]\n",
    "    ccl = len(curr_column)\n",
    "\n",
    "    #last line  and/or last column\n",
    "    if(col == (ccl - 1)) or (lin == (ccl - 1)):\n",
    "        #tots and percents\n",
    "        if(cell_val != 0):\n",
    "            if(col == ccl - 1) and (lin == ccl - 1):\n",
    "                tot_rig = 0\n",
    "                for i in range(array_df.shape[0] - 1):\n",
    "                    tot_rig += array_df[i][i]\n",
    "                per_ok = (float(tot_rig) / cell_val) * 100\n",
    "            elif(col == ccl - 1):\n",
    "                tot_rig = array_df[lin][lin]\n",
    "                per_ok = (float(tot_rig) / cell_val) * 100\n",
    "            elif(lin == ccl - 1):\n",
    "                tot_rig = array_df[col][col]\n",
    "                per_ok = (float(tot_rig) / cell_val) * 100\n",
    "            per_err = 100 - per_ok\n",
    "        else:\n",
    "            per_ok = per_err = 0\n",
    "\n",
    "        per_ok_s = ['%.2f%%'%(per_ok), '100%'] [per_ok == 100]\n",
    "\n",
    "        #text to DEL\n",
    "        text_del.append(oText)\n",
    "\n",
    "        #text to ADD\n",
    "        font_prop = fm.FontProperties(weight='bold', size=fz)\n",
    "        text_kwargs = dict(color='w', ha=\"center\", va=\"center\", gid='sum', fontproperties=font_prop)\n",
    "        lis_txt = ['%d'%(cell_val), per_ok_s, '%.2f%%'%(per_err)]\n",
    "        lis_kwa = [text_kwargs]\n",
    "        dic = text_kwargs.copy(); dic['color'] = 'g'; lis_kwa.append(dic);\n",
    "        dic = text_kwargs.copy(); dic['color'] = 'r'; lis_kwa.append(dic);\n",
    "        lis_pos = [(oText._x, oText._y-0.3), (oText._x, oText._y), (oText._x, oText._y+0.3)]\n",
    "        for i in range(len(lis_txt)):\n",
    "            newText = dict(x=lis_pos[i][0], y=lis_pos[i][1], text=lis_txt[i], kw=lis_kwa[i])\n",
    "            #print 'lin: %s, col: %s, newText: %s' %(lin, col, newText)\n",
    "            text_add.append(newText)\n",
    "        #print '\\n'\n",
    "\n",
    "        #set background color for sum cells (last line and last column)\n",
    "        carr = [0.27, 0.30, 0.27, 1.0]\n",
    "        if(col == ccl - 1) and (lin == ccl - 1):\n",
    "            carr = [0.17, 0.20, 0.17, 1.0]\n",
    "        facecolors[posi] = carr\n",
    "\n",
    "    else:\n",
    "        if(per > 0):\n",
    "            txt = '%s\\n%.2f%%' %(cell_val, per)\n",
    "        else:\n",
    "            if(show_null_values == 0):\n",
    "                txt = ''\n",
    "            elif(show_null_values == 1):\n",
    "                txt = '0'\n",
    "            else:\n",
    "                txt = '0\\n0.0%'\n",
    "        oText.set_text(txt)\n",
    "\n",
    "        #main diagonal\n",
    "        if(col == lin):\n",
    "            #set color of the textin the diagonal to white\n",
    "            oText.set_color('w')\n",
    "            # set background color in the diagonal to blue\n",
    "            facecolors[posi] = [0.35, 0.8, 0.55, 1.0]\n",
    "        else:\n",
    "            oText.set_color('r')\n",
    "\n",
    "    return text_add, text_del\n",
    "#\n",
    "\n",
    "def insert_totals(df_cm):\n",
    "    \"\"\" insert total column and line (the last ones) \"\"\"\n",
    "    sum_col = []\n",
    "    for c in df_cm.columns:\n",
    "        sum_col.append( df_cm[c].sum() )\n",
    "    sum_lin = []\n",
    "    for item_line in df_cm.iterrows():\n",
    "        sum_lin.append( item_line[1].sum() )\n",
    "    df_cm['sum_lin'] = sum_lin\n",
    "    sum_col.append(np.sum(sum_lin))\n",
    "    df_cm.loc['sum_col'] = sum_col\n",
    "    #print ('\\ndf_cm:\\n', df_cm, '\\n\\b\\n')\n",
    "\n",
    "\n",
    "def pretty_plot_confusion_matrix(df_cm, annot=True, cmap=\"Oranges\", fmt='.2f', fz=11,\n",
    "      lw=0.5, cbar=False, figsize=[8,8], show_null_values=0, pred_val_axis='y'):\n",
    "    \"\"\"\n",
    "      print conf matrix with default layout (like matlab)\n",
    "      params:\n",
    "        df_cm          dataframe (pandas) without totals\n",
    "        annot          print text in each cell\n",
    "        cmap           Oranges,Oranges_r,YlGnBu,Blues,RdBu, ... see:\n",
    "        fz             fontsize\n",
    "        lw             linewidth\n",
    "        pred_val_axis  where to show the prediction values (x or y axis)\n",
    "                        'col' or 'x': show predicted values in columns (x axis) instead lines\n",
    "                        'lin' or 'y': show predicted values in lines   (y axis)\n",
    "    \"\"\"\n",
    "    if(pred_val_axis in ('col', 'x')):\n",
    "        xlbl = 'Predicted'\n",
    "        ylbl = 'Actual'\n",
    "    else:\n",
    "        xlbl = 'Actual'\n",
    "        ylbl = 'Predicted'\n",
    "        df_cm = df_cm.T\n",
    "\n",
    "    # create \"Total\" column\n",
    "    insert_totals(df_cm)\n",
    "\n",
    "    #this is for print allways in the same window\n",
    "    fig, ax1 = get_new_fig('Conf matrix default', figsize)\n",
    "\n",
    "    #thanks for seaborn\n",
    "    ax = sn.heatmap(df_cm, annot=annot, annot_kws={\"size\": fz}, linewidths=lw, ax=ax1,\n",
    "                    cbar=cbar, cmap=cmap, linecolor='w', fmt=fmt)\n",
    "\n",
    "    #set ticklabels rotation\n",
    "    ax.set_xticklabels(ax.get_xticklabels(), rotation = 45, fontsize = 10)\n",
    "    ax.set_yticklabels(ax.get_yticklabels(), rotation = 25, fontsize = 10)\n",
    "\n",
    "    # Turn off all the ticks\n",
    "    for t in ax.xaxis.get_major_ticks():\n",
    "        t.tick1On = False\n",
    "        t.tick2On = False\n",
    "    for t in ax.yaxis.get_major_ticks():\n",
    "        t.tick1On = False\n",
    "        t.tick2On = False\n",
    "\n",
    "    #face colors list\n",
    "    quadmesh = ax.findobj(QuadMesh)[0]\n",
    "    facecolors = quadmesh.get_facecolors()\n",
    "\n",
    "    #iter in text elements\n",
    "    array_df = np.array( df_cm.to_records(index=False).tolist() )\n",
    "    text_add = []; text_del = [];\n",
    "    posi = -1 #from left to right, bottom to top.\n",
    "    for t in ax.collections[0].axes.texts: #ax.texts:\n",
    "        pos = np.array( t.get_position()) - [0.5,0.5]\n",
    "        lin = int(pos[1]); col = int(pos[0]);\n",
    "        posi += 1\n",
    "        #print ('>>> pos: %s, posi: %s, val: %s, txt: %s' %(pos, posi, array_df[lin][col], t.get_text()))\n",
    "\n",
    "        #set text\n",
    "        txt_res = configcell_text_and_colors(array_df, lin, col, t, facecolors, posi, fz, fmt, show_null_values)\n",
    "\n",
    "        text_add.extend(txt_res[0])\n",
    "        text_del.extend(txt_res[1])\n",
    "\n",
    "    #remove the old ones\n",
    "    for item in text_del:\n",
    "        item.remove()\n",
    "    #append the new ones\n",
    "    for item in text_add:\n",
    "        ax.text(item['x'], item['y'], item['text'], **item['kw'])\n",
    "\n",
    "    #titles and legends\n",
    "    ax.set_title('Confusion matrix')\n",
    "    ax.set_xlabel(xlbl)\n",
    "    ax.set_ylabel(ylbl)\n",
    "    plt.tight_layout()  #set layout slim\n",
    "    plt.show()\n",
    "\n"
   ]
  },
  {
   "cell_type": "code",
   "execution_count": 7,
   "id": "4c651f68",
   "metadata": {
    "execution": {
     "iopub.execute_input": "2021-08-18T16:22:52.746650Z",
     "iopub.status.busy": "2021-08-18T16:22:52.745673Z",
     "iopub.status.idle": "2021-08-18T16:22:55.110169Z",
     "shell.execute_reply": "2021-08-18T16:22:55.110718Z",
     "shell.execute_reply.started": "2021-08-18T15:27:53.125360Z"
    },
    "papermill": {
     "duration": 2.47457,
     "end_time": "2021-08-18T16:22:55.110904",
     "exception": false,
     "start_time": "2021-08-18T16:22:52.636334",
     "status": "completed"
    },
    "tags": []
   },
   "outputs": [
    {
     "name": "stdout",
     "output_type": "stream",
     "text": [
      "10/10 [==============================] - 1s 44ms/step\n",
      "Podocyrtis ampla  :  0.8333333333333334  (for  6.0  elements).\n",
      "Podocyrtis chalara  :  0.9130434782608695  (for  23.0  elements).\n",
      "Podocyrtis diamesa  :  0.5555555555555556  (for  18.0  elements).\n",
      "Podocyrtis goetheana  :  0.9411764705882353  (for  17.0  elements).\n",
      "Podocyrtis mitra  :  0.8333333333333334  (for  36.0  elements).\n",
      "Podocyrtis papalis  :  0.9555555555555556  (for  45.0  elements).\n",
      "Podocyrtis phyxis  :  0.7272727272727273  (for  11.0  elements).\n",
      "Podocyrtis sinuosa  :  0.75  (for  8.0  elements).\n",
      "Accuracy based on the evaluation by class :  0.8475609756097561\n",
      "10/10 [==============================] - 1s 31ms/step - loss: 1.0351 - categorical_accuracy: 0.8381\n"
     ]
    },
    {
     "name": "stderr",
     "output_type": "stream",
     "text": [
      "/opt/conda/lib/python3.7/site-packages/ipykernel_launcher.py:45: DeprecationWarning: In future, it will be an error for 'np.bool_' scalars to be interpreted as an index\n"
     ]
    },
    {
     "data": {
      "image/png": "[encoded data removed]",
      "text/plain": [
       "<Figure size 576x576 with 1 Axes>"
      ]
     },
     "metadata": {
      "needs_background": "light"
     },
     "output_type": "display_data"
    }
   ],
   "source": [
    "norm_x_test = preprocess_images(x_test)\n",
    "\n",
    "y_pred = model.predict(x_test, batch_size = batchSize, verbose = 1,use_multiprocessing = True, steps = 10)\n",
    "\n",
    "y_test = np.asarray(y_test)\n",
    "y_pred = np.asarray(y_pred)\n",
    "\n",
    "\n",
    "\n",
    "def acc_by_class(pred, true):\n",
    "    avg = 0\n",
    "    acc = np.zeros(8)\n",
    "    num_per_class = np.zeros(8)\n",
    "    assert pred.shape == true.shape\n",
    "    n = pred.shape[0]\n",
    "    for i in range(n):\n",
    "        ref = true[i]\n",
    "        maxInd = np.argmax(ref)\n",
    "        num_per_class[maxInd] += 1\n",
    "        if maxInd == np.argmax(pred[i]):\n",
    "            acc[maxInd] += 1\n",
    "            avg += 1\n",
    "    for k in range(8):\n",
    "        acc[k] /= num_per_class[k]\n",
    "    avg /= n    \n",
    "    return acc , num_per_class , avg\n",
    "\n",
    "predAcc, class_size , avg = acc_by_class(y_pred, y_test)\n",
    "\n",
    "\n",
    "for i in range(8):\n",
    "    print(list(label_map.items())[i][0], \" : \", predAcc[i], \" (for \", class_size[i],  \" elements).\")\n",
    "    \n",
    "print(\"Accuracy based on the evaluation by class : \", avg)\n",
    "\n",
    "\n",
    "\n",
    "\n",
    "val_y_test = np.argmax(np.asarray(y_test), axis = 1)\n",
    "val_y_pred = np.argmax(np.asarray(y_pred), axis = 1)\n",
    "\n",
    "\n",
    "\n",
    "confMat = tf.math.confusion_matrix (labels = val_y_test, predictions = val_y_pred, num_classes = 8).numpy()\n",
    "\n",
    "df_cm = pd.DataFrame(confMat, index = np.asarray(list(label_map.items()))[:, 0],\n",
    "                  columns = np.asarray(list(label_map.items()))[:, 0])\n",
    "\n",
    "\n",
    "\n",
    "\n",
    "test_dataset = tf.data.Dataset.from_tensor_slices((norm_x_test, y_test)).shuffle(norm_x_test.shape[0], reshuffle_each_iteration=True).batch(batchSize).repeat(10)\n",
    "\n",
    "del norm_x_test\n",
    "del y_test\n",
    "gc.collect()\n",
    "\n",
    "\n",
    "    \n",
    "model.evaluate(\n",
    "        test_dataset,\n",
    "        steps=10,\n",
    "        verbose=1)\n",
    "\n",
    "\n",
    "pretty_plot_confusion_matrix(df_cm)"
   ]
  }
 ],
 "metadata": {
  "kernelspec": {
   "display_name": "Python 3",
   "language": "python",
   "name": "python3"
  },
  "language_info": {
   "codemirror_mode": {
    "name": "ipython",
    "version": 3
   },
   "file_extension": ".py",
   "mimetype": "text/x-python",
   "name": "python",
   "nbconvert_exporter": "python",
   "pygments_lexer": "ipython3",
   "version": "3.7.10"
  },
  "papermill": {
   "default_parameters": {},
   "duration": 62.63624,
   "end_time": "2021-08-18T16:22:57.889128",
   "environment_variables": {},
   "exception": null,
   "input_path": "__notebook__.ipynb",
   "output_path": "__notebook__.ipynb",
   "parameters": {},
   "start_time": "2021-08-18T16:21:55.252888",
   "version": "2.3.3"
  }
 },
 "nbformat": 4,
 "nbformat_minor": 5
}
