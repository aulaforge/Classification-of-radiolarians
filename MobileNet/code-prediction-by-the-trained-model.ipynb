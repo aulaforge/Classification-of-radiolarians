{
 "cells": [
  {
   "cell_type": "code",
   "execution_count": 1,
   "id": "2adb7bf9",
   "metadata": {
    "_cell_guid": "b1076dfc-b9ad-4769-8c92-a6c4dae69d19",
    "_uuid": "8f2839f25d086af736a60e9eeb907d3b93b6e0e5",
    "execution": {
     "iopub.execute_input": "2021-07-08T13:19:29.454151Z",
     "iopub.status.busy": "2021-07-08T13:19:29.452648Z",
     "iopub.status.idle": "2021-07-08T13:19:29.650161Z",
     "shell.execute_reply": "2021-07-08T13:19:29.650613Z",
     "shell.execute_reply.started": "2021-07-08T13:17:20.710510Z"
    },
    "papermill": {
     "duration": 0.208417,
     "end_time": "2021-07-08T13:19:29.650913",
     "exception": false,
     "start_time": "2021-07-08T13:19:29.442496",
     "status": "completed"
    },
    "tags": []
   },
   "outputs": [
    {
     "name": "stdout",
     "output_type": "stream",
     "text": [
      "1087\n"
     ]
    }
   ],
   "source": [
    "import numpy as np # linear algebra\n",
    "import pandas as pd # data processing, CSV file I/O (e.g. pd.read_csv)\n",
    "\n",
    "nbPicture = 0\n",
    "\n",
    "dataDirectory = '/kaggle/input/radiolarian-images/Radiolarian images'  #Put the directory of the images here\n",
    "\n",
    "import os\n",
    "for dirname, _, filenames in os.walk(dataDirectory):\n",
    "    for filename in filenames:\n",
    "        nbPicture += 1\n",
    "print (nbPicture)"
   ]
  },
  {
   "cell_type": "code",
   "execution_count": 2,
   "id": "b5303ad5",
   "metadata": {
    "execution": {
     "iopub.execute_input": "2021-07-08T13:19:29.668932Z",
     "iopub.status.busy": "2021-07-08T13:19:29.668382Z",
     "iopub.status.idle": "2021-07-08T13:19:44.866376Z",
     "shell.execute_reply": "2021-07-08T13:19:44.865155Z",
     "shell.execute_reply.started": "2021-07-08T13:17:20.733079Z"
    },
    "papermill": {
     "duration": 15.209518,
     "end_time": "2021-07-08T13:19:44.866540",
     "exception": false,
     "start_time": "2021-07-08T13:19:29.657022",
     "status": "completed"
    },
    "tags": []
   },
   "outputs": [],
   "source": [
    "import gc\n",
    "import tensorflow as tf\n",
    "import tensorflow_datasets as tfds\n",
    "import numpy as np\n",
    "import seaborn as sn\n",
    "import matplotlib.pyplot as plt\n",
    "import matplotlib.font_manager as fm\n",
    "import cv2\n",
    "\n",
    "from matplotlib.collections import QuadMesh\n",
    "from pandas import DataFrame\n",
    "from tensorflow.keras.applications import MobileNet\n",
    "from tensorflow.keras.applications.mobilenet import preprocess_input\n",
    "from tensorflow.keras.layers import Dense, Input, Dropout\n",
    "from tensorflow.keras.models import Model\n",
    "from random import seed\n",
    "from random import randint\n",
    "\n",
    "\n",
    "seed(1)\n",
    "target_size = 120\n",
    "\n",
    "\n",
    "model = tf.keras.models.load_model(\"/kaggle/input/mobilenet-on-radiolarians/mobilenet_radiolarians\") #replace the address by the one of the saved model"
   ]
  },
  {
   "cell_type": "code",
   "execution_count": 3,
   "id": "af2d0916",
   "metadata": {
    "execution": {
     "iopub.execute_input": "2021-07-08T13:19:44.885400Z",
     "iopub.status.busy": "2021-07-08T13:19:44.884398Z",
     "iopub.status.idle": "2021-07-08T13:19:44.887570Z",
     "shell.execute_reply": "2021-07-08T13:19:44.887091Z",
     "shell.execute_reply.started": "2021-07-08T13:17:25.660997Z"
    },
    "papermill": {
     "duration": 0.014441,
     "end_time": "2021-07-08T13:19:44.887696",
     "exception": false,
     "start_time": "2021-07-08T13:19:44.873255",
     "status": "completed"
    },
    "tags": []
   },
   "outputs": [],
   "source": [
    "labels = [\n",
    "    \"Podocyrtis ampla\",\n",
    "    \"Podocyrtis chalara\",\n",
    "    \"Podocyrtis diamesa\",\n",
    "    \"Podocyrtis goetheana\",\n",
    "    \"Podocyrtis mitra\",\n",
    "    \"Podocyrtis papalis\",\n",
    "    \"Podocyrtis phyxis\",\n",
    "    \"Podocyrtis sinuosa\"\n",
    "]"
   ]
  },
  {
   "cell_type": "code",
   "execution_count": 4,
   "id": "d17960fb",
   "metadata": {
    "execution": {
     "iopub.execute_input": "2021-07-08T13:19:44.905657Z",
     "iopub.status.busy": "2021-07-08T13:19:44.904985Z",
     "iopub.status.idle": "2021-07-08T13:19:45.001925Z",
     "shell.execute_reply": "2021-07-08T13:19:45.001291Z",
     "shell.execute_reply.started": "2021-07-08T13:17:25.667629Z"
    },
    "papermill": {
     "duration": 0.108333,
     "end_time": "2021-07-08T13:19:45.002058",
     "exception": false,
     "start_time": "2021-07-08T13:19:44.893725",
     "status": "completed"
    },
    "tags": []
   },
   "outputs": [],
   "source": [
    "from sklearn.utils import shuffle\n",
    "from tensorflow.image import resize, grayscale_to_rgb\n",
    "\n",
    "def preprocess_images(x):\n",
    "\n",
    "    batch = preprocess_input(x)\n",
    "    if (len(x.shape)==3):\n",
    "        batch = batch[..., np.newaxis]\n",
    "\n",
    "    if (x.shape[3]==1):  \n",
    "        batch = grayscale_to_rgb(tf.convert_to_tensor(batch))\n",
    "        \n",
    "    batch = resize(batch, (target_size, target_size))\n",
    "    batch = np.asarray(batch)\n",
    "\n",
    "           \n",
    "    return (tf.convert_to_tensor(batch.astype(np.float32)))"
   ]
  },
  {
   "cell_type": "code",
   "execution_count": 5,
   "id": "21ea07e5",
   "metadata": {
    "execution": {
     "iopub.execute_input": "2021-07-08T13:19:45.019173Z",
     "iopub.status.busy": "2021-07-08T13:19:45.018558Z",
     "iopub.status.idle": "2021-07-08T13:19:53.038432Z",
     "shell.execute_reply": "2021-07-08T13:19:53.037929Z",
     "shell.execute_reply.started": "2021-07-08T13:17:25.677835Z"
    },
    "papermill": {
     "duration": 8.030081,
     "end_time": "2021-07-08T13:19:53.038569",
     "exception": false,
     "start_time": "2021-07-08T13:19:45.008488",
     "status": "completed"
    },
    "tags": []
   },
   "outputs": [
    {
     "name": "stdout",
     "output_type": "stream",
     "text": [
      "10/10 [==============================] - 8s 6ms/step\n"
     ]
    }
   ],
   "source": [
    "my_image = np.asarray([cv2.imread('../input/radiolarian-images/Radiolarian images/Podocyrtis ampla/1260A_10R_5W_55_57_aaa_rotated.jpg')]) #replace the address by the address of the image you want to use\n",
    "\n",
    "my_image = preprocess_images(my_image)\n",
    "\n",
    "prediction = model.predict(my_image, verbose = 1,use_multiprocessing = True, steps = 10)"
   ]
  },
  {
   "cell_type": "code",
   "execution_count": 6,
   "id": "efc4de2a",
   "metadata": {
    "execution": {
     "iopub.execute_input": "2021-07-08T13:19:53.057671Z",
     "iopub.status.busy": "2021-07-08T13:19:53.056951Z",
     "iopub.status.idle": "2021-07-08T13:19:53.061585Z",
     "shell.execute_reply": "2021-07-08T13:19:53.060905Z",
     "shell.execute_reply.started": "2021-07-08T13:17:26.078143Z"
    },
    "papermill": {
     "duration": 0.016179,
     "end_time": "2021-07-08T13:19:53.061734",
     "exception": false,
     "start_time": "2021-07-08T13:19:53.045555",
     "status": "completed"
    },
    "tags": []
   },
   "outputs": [
    {
     "name": "stdout",
     "output_type": "stream",
     "text": [
      "Prediction :  Podocyrtis ampla\n"
     ]
    }
   ],
   "source": [
    "pred_ind = np.argmax(prediction)\n",
    "print(\"Prediction : \", labels[pred_ind])"
   ]
  }
 ],
 "metadata": {
  "kernelspec": {
   "display_name": "Python 3",
   "language": "python",
   "name": "python3"
  },
  "language_info": {
   "codemirror_mode": {
    "name": "ipython",
    "version": 3
   },
   "file_extension": ".py",
   "mimetype": "text/x-python",
   "name": "python",
   "nbconvert_exporter": "python",
   "pygments_lexer": "ipython3",
   "version": "3.7.10"
  },
  "papermill": {
   "default_parameters": {},
   "duration": 33.745206,
   "end_time": "2021-07-08T13:19:55.927536",
   "environment_variables": {},
   "exception": null,
   "input_path": "__notebook__.ipynb",
   "output_path": "__notebook__.ipynb",
   "parameters": {},
   "start_time": "2021-07-08T13:19:22.182330",
   "version": "2.3.3"
  }
 },
 "nbformat": 4,
 "nbformat_minor": 5
}
